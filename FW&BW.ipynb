{
  "nbformat": 4,
  "nbformat_minor": 0,
  "metadata": {
    "colab": {
      "provenance": []
    },
    "kernelspec": {
      "name": "python3",
      "display_name": "Python 3"
    },
    "language_info": {
      "name": "python"
    }
  },
  "cells": [
    {
      "cell_type": "markdown",
      "metadata": {
        "id": "go4K2HWl1Vua"
      },
      "source": [
        "We consider a neural network with two inputs, 1 hidden layer with 3 hidden nodes, and one output. We are using the ReLU activation function at the hidden nodes. Mathematically, this can be represented as:\n",
        "\n",
        "$$\n",
        "h = \\sigma \\left( W^T x + b\\right), ~~~ z = V^T h + c\n",
        "$$\n",
        "\n",
        "where $\\sigma$ denotes the ReLU activation and\n",
        "\n",
        "$~~~~~~~~W =\n",
        "\\begin{bmatrix}\n",
        "w_{11} & w_{12} & w_{13} \\\\\n",
        "w_{21} & w_{22} & w_{23}\n",
        "\\end{bmatrix},~\n",
        "$\n",
        "$b =\n",
        "\\begin{bmatrix}\n",
        "b_{1}\\\\\n",
        "b_{2}\\\\\n",
        "b_{3}\n",
        "\\end{bmatrix},\n",
        "$\n",
        "$V = \\begin{bmatrix}\n",
        "v_{1}  \\\\\n",
        "v_{2}\\\\\n",
        "v_{3}\n",
        "\\end{bmatrix}$, c\n",
        "\n",
        "are the weights and the bias of the network. We will denote the output $z$ of this network as $f(\\theta, x)$.\n",
        "\n",
        "For a data point $(x, y)$, the loss function on this data point is defined as\n",
        "$$\n",
        "L(\\theta, x, y) = [f(\\theta, x) - y]^2.\n",
        "$$"
      ]
    },
    {
      "cell_type": "markdown",
      "metadata": {
        "id": "BhNRQLgI5eqq"
      },
      "source": [
        "# **Part 1: Define the forward map**\n",
        "\n"
      ]
    },
    {
      "cell_type": "code",
      "metadata": {
        "id": "n_00Sv3zmW1z"
      },
      "source": [
        "def relu(x):\n",
        "  return max(0,x)"
      ],
      "execution_count": null,
      "outputs": []
    },
    {
      "cell_type": "code",
      "source": [
        "def s(theta,x,b,c):\n",
        "  w11,w12,w13,w21,w22,w23,v1,v2,v3 = theta\n",
        "  x1,x2 = x\n",
        "  b1,b2,b3 = b\n",
        "  h1=relu(w11*x1 + w21*x2 + b1)\n",
        "  h2=relu(w12*x1 + w22*x2 + b2)\n",
        "  h3=relu(w13*x1 + w23*x2 + b3)\n",
        "  z=(h1*v1 + h2*v2 + h3*v3 + c)\n",
        "  return (h1,h2,h3,z)"
      ],
      "metadata": {
        "id": "H2oyWFxedng9"
      },
      "execution_count": null,
      "outputs": []
    },
    {
      "cell_type": "code",
      "source": [
        "theta=[1,3,1,2,1,-1,1,2,1]\n",
        "y = 60\n",
        "x=[-1,1]\n",
        "b=[1,0,-1]\n",
        "c=10\n",
        "h1,h2,h3,z = s(theta,x,b,c)\n",
        "l=(z-y)**2\n",
        "print(l)"
      ],
      "metadata": {
        "colab": {
          "base_uri": "https://localhost:8080/"
        },
        "id": "U_kytiFggbUz",
        "outputId": "c5d30979-2ef8-49a3-cc2d-d9842f4ad274"
      },
      "execution_count": null,
      "outputs": [
        {
          "output_type": "stream",
          "name": "stdout",
          "text": [
            "2304\n"
          ]
        }
      ]
    },
    {
      "cell_type": "code",
      "source": [
        "def r(theta,x,b,c,y):\n",
        "  h1,h2,h3,z = s(theta,x,b,c)\n",
        "  l=(z-y)**2\n",
        "  return (l)\n",
        "\n",
        "theta=[1,3,1,2,1,-1,1,2,1]\n",
        "\n",
        "y = 60\n",
        "x=[-1,1]\n",
        "b=[1,0,-1]\n",
        "c=10\n",
        "w11,w12,w13,w21,w22,w23,v1,v2,v3 = theta\n",
        "result= r(theta,x,b,c,y)\n",
        "print(result)"
      ],
      "metadata": {
        "colab": {
          "base_uri": "https://localhost:8080/"
        },
        "id": "piFKDLbcfEm4",
        "outputId": "07feb82d-ce40-4dc1-85a1-c16d347ec545"
      },
      "execution_count": null,
      "outputs": [
        {
          "output_type": "stream",
          "name": "stdout",
          "text": [
            "2304\n"
          ]
        }
      ]
    },
    {
      "cell_type": "markdown",
      "metadata": {
        "id": "E-aQ5vGo9_0b"
      },
      "source": [
        "# **Part 2: Back-propagation**\n",
        "\n"
      ]
    },
    {
      "cell_type": "code",
      "metadata": {
        "id": "nbPZnM9ArqgK"
      },
      "source": [
        "def derelu(x):\n",
        "  if x<=0:\n",
        "    return 0\n",
        "  return 1"
      ],
      "execution_count": null,
      "outputs": []
    },
    {
      "cell_type": "code",
      "source": [
        "def back(theta,x,b,c,y):\n",
        "  h1,h2,h3,z = s(theta,x,b,c)\n",
        "  x1, x2 = x\n",
        "  b1,b2,b3 = b\n",
        "  bl = (z-y)*2\n",
        "  bv1 = ((z-y)*2)*h1\n",
        "  bv2 = ((z-y)*2)*h2\n",
        "  bv3 = ((z-y)*2)*h3\n",
        "\n",
        "  bh1 = ((z-y)*2)*v1\n",
        "  bh2 = ((z-y)*2)*v2\n",
        "  bh3 = ((z-y)*2)*v3\n",
        "\n",
        "  g=derelu(w11*x1 + w21*x2 + b1)\n",
        "  d=derelu(w12*x1 + w22*x2 + b2)\n",
        "  a=derelu(w13*x1 + w23*x2 + b3)\n",
        "  bw11 = ((z-y)*2)*v1*x1*g\n",
        "  bw12 = ((z-y)*2)*v2*x1*d\n",
        "  bw13 = ((z-y)*2)*v3*x1*a\n",
        "  bw21 = ((z-y)*2)*v1*x2*g\n",
        "  bw22 = ((z-y)*2)*v2*x2*d\n",
        "  bw23 = ((z-y)*2)*v3*x2*a\n",
        "\n",
        "  return (bw11, bw12, bw13, bw21, bw22, bw23, bv1, bv2, bv3)"
      ],
      "metadata": {
        "id": "5IeMv78Hh5EZ"
      },
      "execution_count": null,
      "outputs": []
    },
    {
      "cell_type": "markdown",
      "metadata": {
        "id": "Cd2y0oup_442"
      },
      "source": [
        "## **Part 3: Gradient descent**\n",
        "\n",
        "Considering the dataset of two data points:\n",
        "*   $x_1 = \\begin{bmatrix}\n",
        "-1 \\\\\n",
        "1\n",
        "\\end{bmatrix}$, and $y_1 = 60$.\n",
        "*   $x_2 = \\begin{bmatrix}\n",
        "-1 \\\\\n",
        "0.5\n",
        "\\end{bmatrix}$, and $y_2 = 20$.\n",
        "\n",
        "Define\n",
        "$$\n",
        "J(\\theta) = L(\\theta, x_1, y_1) + L(\\theta, x_2, y_2)$$\n",
        "\n",
        "Implementing the following procedure\n",
        "\n",
        "*   Start at a random value of $\\theta$\n",
        "*   Perform 100 steps of gradient descent for the objective function $J(\\theta)$ with learning rate $\\rho = 0.005$\n",
        "*   Plot the value of the objective function over the steps"
      ]
    },
    {
      "cell_type": "code",
      "source": [
        "from numpy.core.fromnumeric import shape\n",
        "import numpy as np\n",
        "x11 = [-1, 1]\n",
        "x22 = [-1, 0.5]\n",
        "y1 , y2 = [60,20]\n",
        "p = 0.005\n",
        "b=[1,0,-1]\n",
        "c=10\n",
        "\n",
        "grad = []\n",
        "j=[]\n",
        "theta =[[1,3,1,2,1,-1,1,2,1]]\n",
        "theta1 =[1,3,1,2,1,-1,1,2,1]\n",
        "l= [r(theta1,x,b,c,y)]\n",
        "for i in range(100):\n",
        "  j = np.add(back(theta1,x11,b,c,y1), back(theta1,x22,b,c,y2))\n",
        "  grad.append(j)\n",
        "  theta1 = np.subtract(theta1,[x * p for x in j])\n",
        "  theta.append(theta1)\n",
        "  l.append(r(theta1,x,b,c,y))\n",
        "print(shape(grad))\n",
        "print(shape(theta))\n",
        "#print(shape(theta))\n",
        "print(theta[-1])"
      ],
      "metadata": {
        "id": "zVRfRKCo4X5X",
        "colab": {
          "base_uri": "https://localhost:8080/"
        },
        "outputId": "5f957092-55fc-4a5b-83fa-89f1f89d7757"
      },
      "execution_count": null,
      "outputs": [
        {
          "output_type": "stream",
          "name": "stdout",
          "text": [
            "(100, 9)\n",
            "(101, 9)\n",
            "[ 2.54374129  3.          1.          5.21283991  1.         -1.\n",
            " 12.97353746  2.          1.        ]\n"
          ]
        }
      ]
    },
    {
      "cell_type": "code",
      "source": [
        "import matplotlib.pyplot as plt\n",
        "plt.plot(l)\n",
        "print(l)"
      ],
      "metadata": {
        "colab": {
          "base_uri": "https://localhost:8080/",
          "height": 468
        },
        "id": "G9mKj3lxmn6P",
        "outputId": "254debf7-8537-41ba-b556-451ea6c193f4"
      },
      "execution_count": null,
      "outputs": [
        {
          "output_type": "stream",
          "name": "stdout",
          "text": [
            "[2304, 1905.7808525625003, 1275.971002015301, 680.4675769993495, 333.54240384244605, 192.39783680550312, 143.0712844735767, 125.53588281972517, 118.39392667982767, 114.66177291373651, 112.0662913852268, 109.86026451689158, 107.79564394960292, 105.78931980166873, 103.81318478046651, 101.8576397780212, 99.91937457348995, 97.99724194391888, 96.09085269797069, 94.20009300008005, 92.32495688091227, 90.4654873399545, 88.62175516390039, 86.79385094708928, 84.98188176659318, 83.18596950758148, 81.40624977458974, 79.64287100883169, 77.89599367519749, 76.16578946995658, 74.45244053177667, 72.75613865022497, 71.07708447013478, 69.41548669177322, 67.7715612672576, 66.145530593797, 64.53762270428395, 62.948070455636376, 61.377110715116004, 59.82498354465802, 58.29193138304428, 56.77819822555522, 55.28402880054829, 53.80966774225939, 52.35535875900665, 50.921343795903766, 49.50786219119582, 48.11514982538409, 46.74343826246106, 45.39295388279135, 44.06391700749037, 42.75654101454351, 41.47103144737806, 40.20758511714254, 38.96638920055394, 37.74762033581251, 36.55144371976939, 35.37801221021138, 34.22746543780326, 33.09992893287157, 31.99551327279755, 30.914313256298392, 29.85640711129539, 28.821855743362413, 27.810702031931953, 26.822970181466545, 25.858665134699883, 24.917772054792717, 24.000255882852105, 23.10606097671287, 22.235110836214965, 21.387307919416394, 20.56253355329259, 19.760647941506182, 18.981490270795753, 18.22487891647292, 17.490611746429167, 16.778466521986264, 16.08820139288025, 15.419555482676449, 14.772249559987852, 14.14598679003204, 13.540453560314406, 12.955320373592118, 12.39024280074756, 11.844862485798089, 11.318808194980697, 10.81169690168462, 10.323134898950512, 9.852718931309646, 9.400037337892696, 8.964671198985604, 8.546195478536093, 8.144180155518203, 7.758191337518457, 7.387792350414668, 7.03254479856359, 6.692009590484326, 6.365747925608676, 6.0533222382627665, 5.754297095635785]\n"
          ]
        },
        {
          "output_type": "display_data",
          "data": {
            "text/plain": [
              "<Figure size 640x480 with 1 Axes>"
            ],
            "image/png": "[encoded data removed]"
          },
          "metadata": {}
        }
      ]
    }
  ]
}